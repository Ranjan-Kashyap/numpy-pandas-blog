{
 "cells": [
  {
   "cell_type": "markdown",
   "metadata": {},
   "source": [
    "# 1. Importing the library"
   ]
  },
  {
   "cell_type": "code",
   "execution_count": 1,
   "metadata": {},
   "outputs": [],
   "source": [
    "#Using numpy as np is just a choice to shorten the text length \"numpy\". One can use numpy as well.\n",
    "\n",
    "import numpy as np\n"
   ]
  },
  {
   "cell_type": "markdown",
   "metadata": {},
   "source": [
    "Quick tip: Use Alt+Enter to execute and insert next cell below.\n",
    "               Control + Enter to execute current cell only.\n",
    "               Esc and A to enter a cell above.\n",
    "               Esc and B to enter a cell below."
   ]
  },
  {
   "cell_type": "code",
   "execution_count": 2,
   "metadata": {},
   "outputs": [
    {
     "data": {
      "text/plain": [
       "[[10, 12, 13], [23, 43, 5], [34, 54, 0]]"
      ]
     },
     "execution_count": 2,
     "metadata": {},
     "output_type": "execute_result"
    }
   ],
   "source": [
    "#Let's first start by creating a list of list\n",
    "\n",
    "lst=[[10,12,13],[23,43,5],[34,54,0]]\n",
    "lst"
   ]
  },
  {
   "cell_type": "code",
   "execution_count": 3,
   "metadata": {},
   "outputs": [],
   "source": [
    "#Now let's make a numpy array out of it\n",
    "\n",
    "arr = np.array(lst)"
   ]
  },
  {
   "cell_type": "code",
   "execution_count": 4,
   "metadata": {},
   "outputs": [
    {
     "name": "stdout",
     "output_type": "stream",
     "text": [
      "Dimensions of the array are: (3, 3)\n",
      "Array's datatype is: int32\n"
     ]
    }
   ],
   "source": [
    "#Now, let's perform some functions on it\n",
    "\n",
    "print(\"Dimensions of the array are:\",arr.shape)\n",
    "print(\"Array's datatype is:\",arr.dtype)"
   ]
  },
  {
   "cell_type": "markdown",
   "metadata": {},
   "source": [
    "# 2. Fetching values"
   ]
  },
  {
   "cell_type": "code",
   "execution_count": 5,
   "metadata": {},
   "outputs": [
    {
     "data": {
      "text/plain": [
       "array([10, 12, 13])"
      ]
     },
     "execution_count": 5,
     "metadata": {},
     "output_type": "execute_result"
    }
   ],
   "source": [
    "#Using index for whole row\n",
    "arr[0]"
   ]
  },
  {
   "cell_type": "code",
   "execution_count": 6,
   "metadata": {},
   "outputs": [
    {
     "data": {
      "text/plain": [
       "13"
      ]
     },
     "execution_count": 6,
     "metadata": {},
     "output_type": "execute_result"
    }
   ],
   "source": [
    "#Using index for specific values\n",
    "\n",
    "arr[0,2] "
   ]
  },
  {
   "cell_type": "code",
   "execution_count": 60,
   "metadata": {},
   "outputs": [
    {
     "data": {
      "text/plain": [
       "array([13,  5,  0])"
      ]
     },
     "execution_count": 60,
     "metadata": {},
     "output_type": "execute_result"
    }
   ],
   "source": [
    "#To get values at columns\n",
    "\n",
    "'''The semicolon \":\" is for all the rows and 2 is for the column number starting from 0.\n",
    "   It says bring me the 2nd column's values in all the rows.'''\n",
    "arr[:,2]"
   ]
  },
  {
   "cell_type": "markdown",
   "metadata": {},
   "source": [
    "# 3. Updating and Creation of  arrays"
   ]
  },
  {
   "cell_type": "code",
   "execution_count": 8,
   "metadata": {},
   "outputs": [
    {
     "data": {
      "text/plain": [
       "array([[ 1, 12, 13],\n",
       "       [ 2, 43,  5],\n",
       "       [ 3, 54,  0]])"
      ]
     },
     "execution_count": 8,
     "metadata": {},
     "output_type": "execute_result"
    }
   ],
   "source": [
    "#Updating values at columns\n",
    "\n",
    "'It says change the values of '0th' column in all rows. Semicolon is for all rows.' \n",
    "arr[:,0]=[1,2,3]\n",
    "arr"
   ]
  },
  {
   "cell_type": "code",
   "execution_count": 9,
   "metadata": {},
   "outputs": [
    {
     "name": "stdout",
     "output_type": "stream",
     "text": [
      "Array: [0. 0. 0. 0. 0. 0.]\n",
      "Array datatype: float64\n"
     ]
    }
   ],
   "source": [
    "#To create an array of all zeroes.\n",
    "\n",
    "arr1=np.zeros(6)\n",
    "\n",
    "print(\"Array:\",arr1)\n",
    "print(\"Array datatype:\",arr1.dtype)\n"
   ]
  },
  {
   "cell_type": "code",
   "execution_count": 10,
   "metadata": {},
   "outputs": [
    {
     "data": {
      "text/plain": [
       "array([0, 0, 0])"
      ]
     },
     "execution_count": 10,
     "metadata": {},
     "output_type": "execute_result"
    }
   ],
   "source": [
    "#To create an array of all zeroes as integer values.\n",
    "\n",
    "arr2=np.zeros(3,dtype=np.int)\n",
    "arr2\n",
    "\n",
    "#See the output. You will not see a decimal with 0."
   ]
  },
  {
   "cell_type": "code",
   "execution_count": 11,
   "metadata": {},
   "outputs": [
    {
     "data": {
      "text/plain": [
       "array([1., 1., 1., 1., 1.])"
      ]
     },
     "execution_count": 11,
     "metadata": {},
     "output_type": "execute_result"
    }
   ],
   "source": [
    "#To create an array of all ones.\n",
    "\n",
    "'Only arrays of 0's and 1's can be made like that.' \n",
    "arr3=np.ones(5)\n",
    "arr3"
   ]
  },
  {
   "cell_type": "code",
   "execution_count": 20,
   "metadata": {},
   "outputs": [
    {
     "name": "stdout",
     "output_type": "stream",
     "text": [
      "Array with a range: \n",
      " [0 1 2 3 4]\n",
      "Array with a range bwtween 2 and 20 following a step of 2:\n",
      " [ 2  4  6  8 10 12 14 16 18]\n",
      "Array with direct values:\n",
      " [ 2  3 10  4  1]\n"
     ]
    }
   ],
   "source": [
    "#Generating an array with range\n",
    "\n",
    "arr4=np.arange(5)\n",
    "print(\"Array with a range: \\n\",arr4)\n",
    "\n",
    "#Second method of generating an array with range\n",
    "\n",
    "'np.arange(start,stop,step) only the starting value will be included in the result. End value will not be included.'\n",
    "\n",
    "arr6=np.arange(2,20,2)    #It will start from 2 and end at 20 taking a step of 2. \n",
    "print(\"Array with a range bwtween 2 and 20 following a step of 2:\\n\", arr6)               \n",
    "\n",
    "#Generating an array with direct values\n",
    "\n",
    "arr7=np.array([2,3,10,4,1])\n",
    "print(\"Array with direct values:\\n\",arr7)\n"
   ]
  },
  {
   "cell_type": "markdown",
   "metadata": {},
   "source": [
    "# 4. Basic Functions on arrays"
   ]
  },
  {
   "cell_type": "code",
   "execution_count": 13,
   "metadata": {},
   "outputs": [
    {
     "name": "stdout",
     "output_type": "stream",
     "text": [
      "[ 0  3  6  9 12]\n",
      "[0.  0.5 1.  1.5 2. ]\n",
      "[0 1 0 0 1]\n",
      "[12 13 20 14 11]\n",
      "[-6 -5  2 -4 -7]\n",
      "[ 0  1  4  9 16]\n"
     ]
    }
   ],
   "source": [
    "#Multiplication, division, addition, etc with a number can be performed on array like down below. \n",
    "\n",
    "print(arr4*3)        #Multiplication by a number\n",
    "print(arr4/2)        #Division: To get quotient\n",
    "print(arr7%2)        #Division: To get remainder\n",
    "print(arr7+10)       #Addtion of a number to the array\n",
    "print(arr7-8)        #Subtraction of a number\n",
    "print(arr4**2)       #Raising the array to a power"
   ]
  },
  {
   "cell_type": "code",
   "execution_count": 15,
   "metadata": {},
   "outputs": [
    {
     "name": "stdout",
     "output_type": "stream",
     "text": [
      "[ 10  40  90 160 250]\n",
      "[2.5 2.5 2.5 2.5 2.5]\n",
      "[ 7 14 21 28 35]\n",
      "[1 2 3 4 5]\n",
      "[        25      10000   11390625 -169803776 1977800241]\n"
     ]
    }
   ],
   "source": [
    "#All the basic functions can be perfromed between arrays too. \n",
    "\n",
    "arr8 = np.array([5,10,15,20,25])\n",
    "arr9 = np.array([2,4,6,8,10])\n",
    "\n",
    "print(arr8*arr9)        #Multiplication between the arrays\n",
    "print(arr8/arr9)        #Division to get quotients as values\n",
    "print(arr8+arr9)        #Addition between two arrays\n",
    "print(arr8%arr9)        #Division to get remainders as values\n",
    "print(arr8**arr9)       #Raising an array to the power of the another array"
   ]
  },
  {
   "cell_type": "markdown",
   "metadata": {},
   "source": [
    "# 5. Copying in Numpy"
   ]
  },
  {
   "cell_type": "code",
   "execution_count": 57,
   "metadata": {},
   "outputs": [
    {
     "name": "stdout",
     "output_type": "stream",
     "text": [
      "arrB:           [10 20 30 40]\n",
      "Is arrB arrA:   True\n",
      "\n",
      "New Array arrA: [110 120 130 140]\n",
      "Array arrB:     [10 20 30 40]\n",
      "\n",
      "Array arrA:     [110 120 130 140]\n",
      "New Array arrB: [30 40 50 60]\n"
     ]
    }
   ],
   "source": [
    "#A direct approach to copy\n",
    "\n",
    "arrA=np.array([10,20,30,40])\n",
    "arrB=arrA            #A new array arrB is just a view to the same location where values of array arrA.\n",
    "print(\"arrB:          \",arrB)\n",
    "print(\"Is arrB arrA:  \", arrA is arrB)\n",
    "\n",
    "arrA = arrA+100\n",
    "print(\"\\nNew Array arrA:\", arrA)\n",
    "print(\"Array arrB:    \", arrB)\n",
    "\n",
    "'''Changes made in arrA will not reflect in arrB and vice versa.''' \n",
    "\n",
    "arrB = arrB+20\n",
    "print(\"\\nArray arrA:    \", arrA)\n",
    "print(\"New Array arrB:\", arrB)\n",
    "#So now the same location has two views."
   ]
  },
  {
   "cell_type": "code",
   "execution_count": 69,
   "metadata": {},
   "outputs": [
    {
     "name": "stdout",
     "output_type": "stream",
     "text": [
      "arrD:          [1 5 7 9]\n",
      "Is arrD aarD:  False\n",
      "\n",
      "New arrA is:  [11 15 17 19]\n",
      "arrD is:      [1 5 7 9]\n",
      "\n",
      "arrA is:      [11 15 17 19]\n",
      "New arrD is:  [101 105 107 109]\n"
     ]
    }
   ],
   "source": [
    "#Will create an actual copy stored at another location. \n",
    "\n",
    "arrA=np.array([1,5,7,9])\n",
    "arrD=arrA.copy()\n",
    "print(\"arrD:         \",arrD)\n",
    "print(\"Is arrD aarD: \", arrD is arrA)\n",
    "\n",
    "'arrD and arrA are different. Any changes made to arrA will not reflect in arrD and vice versa. '\n",
    "arrA= arrA+10\n",
    "print(\"\\nNew arrA is: \", arrA)\n",
    "print(\"arrD is:     \", arrD)\n",
    "\n",
    "arrD = arrD+100\n",
    "print(\"\\narrA is:     \", arrA)\n",
    "print(\"New arrD is: \", arrD)"
   ]
  },
  {
   "cell_type": "markdown",
   "metadata": {},
   "source": [
    "A View is a window to the same memory location. There can be many views to a single location. \n",
    "That means whatever changes are done in view window will affect the original memory. "
   ]
  },
  {
   "cell_type": "code",
   "execution_count": 70,
   "metadata": {},
   "outputs": [
    {
     "name": "stdout",
     "output_type": "stream",
     "text": [
      "arrE:         [0 2 4 8]\n",
      "Is arrE arrC: False\n",
      "\n",
      "New arrA is:  [  0   8  64 512]\n",
      "arrE is:      [0 2 4 8]\n",
      "\n",
      "New arrE is:  [50 52 54 58]\n",
      "arrA is:      [  0   8  64 512]\n"
     ]
    }
   ],
   "source": [
    "#NumPy View\n",
    "\n",
    "arrA=np.array([0,2,4,8])\n",
    "\n",
    "arrE=arrA.view()\n",
    "print(\"arrE:        \",arrE)\n",
    "print(\"Is arrE arrC:\", arrE is arrA)\n",
    " \n",
    "'Changes made to arrA will not change arrE'   \n",
    "arrA = arrA**3\n",
    "print(\"\\nNew arrA is: \", arrA)\n",
    "print(\"arrE is:     \", arrE)\n",
    "\n",
    "'Changes made to arrE will change arrA'\n",
    "arrE= arrE+50\n",
    "print(\"\\nNew arrE is: \", arrE)\n",
    "print(\"arrA is:     \", arrA)"
   ]
  },
  {
   "cell_type": "markdown",
   "metadata": {},
   "source": [
    "# 6. Basic Array Methods "
   ]
  },
  {
   "cell_type": "code",
   "execution_count": 106,
   "metadata": {},
   "outputs": [
    {
     "name": "stdout",
     "output_type": "stream",
     "text": [
      "Random values of array: [ 6 12  9 11  5]\n",
      "True for the above condition or not: [ True  True False False False]\n"
     ]
    }
   ],
   "source": [
    "\n",
    "#Creating an array with random values\n",
    "arrR=np.random.randint(5,15,5)\n",
    "print(\"Random values of array:\",arrR)\n",
    "\n",
    "#Comparing values of array\n",
    "div=arrR%2==0\n",
    "print(\"True for the above condition or not:\",div)"
   ]
  },
  {
   "cell_type": "code",
   "execution_count": 154,
   "metadata": {},
   "outputs": [
    {
     "name": "stdout",
     "output_type": "stream",
     "text": [
      "Minimum value in arrR: 5\n",
      "Minimum value's position: 0\n",
      "\n",
      "Maximum value in arrR: 12\n",
      "Maximum value's position: 4\n",
      "\n",
      "If all the items are true return true: False\n",
      "If any item is true return true: True\n",
      "\n",
      "Sum of values in arrR: 43\n",
      "\n",
      "Square root of values in arrR: [2.23606798 2.44948974 3.         3.31662479 3.46410162]\n"
     ]
    }
   ],
   "source": [
    "#Basic array methods\n",
    "print(\"Minimum value in arrR:\",arrR.min())\n",
    "print(\"Minimum value's position:\",arrR.argmin())\n",
    "\n",
    "print(\"\\nMaximum value in arrR:\",arrR.max())\n",
    "print(\"Maximum value's position:\",arrR.argmax())\n",
    "\n",
    "print(\"\\nIf all the items are true return true:\",div.all())\n",
    "print(\"If any item is true return true:\",div.any())\n",
    "\n",
    "print(\"\\nSum of values in arrR:\",arrR.sum())\n",
    "print(\"\\nSquare root of values in arrR:\",np.sqrt(arrR))\n"
   ]
  },
  {
   "cell_type": "code",
   "execution_count": 54,
   "metadata": {},
   "outputs": [
    {
     "name": "stdout",
     "output_type": "stream",
     "text": [
      "Originally the arrH looks like:\n",
      " [ 8  7 10 10 14]\n",
      "After Sorting:\n",
      " [ 7  8 10 10 14]\n",
      "The index of the sorted elements in the original arrH were:\n",
      " [1 0 2 3 4]\n",
      "Just another way to sort:\n",
      " [ 7  8 10 10 14]\n"
     ]
    }
   ],
   "source": [
    "arrH=np.random.randint(5,15,5)                             #(Start,Stop,Number) Where number is the number of values this time\n",
    "\n",
    "print(\"Originally the arrH looks like:\\n\",arrH)\n",
    "print(\"After Sorting:\\n\",np.sort(arrH))\n",
    "print(\"The index of the sorted elements in the original arrH were:\\n\",np.argsort(arrH))     #arg brings the index of the values\n",
    "arrH.sort()\n",
    "print(\"Just another way to sort:\\n\",arrH)"
   ]
  },
  {
   "cell_type": "code",
   "execution_count": 55,
   "metadata": {},
   "outputs": [
    {
     "data": {
      "text/plain": [
       "array([ 7,  8, 10, 10, 14])"
      ]
     },
     "execution_count": 55,
     "metadata": {},
     "output_type": "execute_result"
    }
   ],
   "source": [
    "#Will bring the values of arrH that are sorted by argsort\n",
    "arrH[arrH.argsort()]"
   ]
  },
  {
   "cell_type": "code",
   "execution_count": 56,
   "metadata": {},
   "outputs": [
    {
     "data": {
      "text/plain": [
       "array([[ 1,  2,  3],\n",
       "       [12, 43, 54],\n",
       "       [13,  5,  0]])"
      ]
     },
     "execution_count": 56,
     "metadata": {},
     "output_type": "execute_result"
    }
   ],
   "source": [
    "#Finding the transpose of an array(matrice)\n",
    "\n",
    "arrI=[[2,3,4],[10,20,30]]\n",
    "arr.transpose()"
   ]
  },
  {
   "cell_type": "markdown",
   "metadata": {},
   "source": [
    "One should always experiment with whatsoever is given. That's how leanring is done.\n",
    "There can be methods or things not shown here but that should not stop you from learning more. "
   ]
  }
 ],
 "metadata": {
  "kernelspec": {
   "display_name": "Python 3",
   "language": "python",
   "name": "python3"
  },
  "language_info": {
   "codemirror_mode": {
    "name": "ipython",
    "version": 3
   },
   "file_extension": ".py",
   "mimetype": "text/x-python",
   "name": "python",
   "nbconvert_exporter": "python",
   "pygments_lexer": "ipython3",
   "version": "3.6.9"
  }
 },
 "nbformat": 4,
 "nbformat_minor": 2
}
